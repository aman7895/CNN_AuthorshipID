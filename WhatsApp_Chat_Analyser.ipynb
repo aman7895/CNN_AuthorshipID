{
  "nbformat": 4,
  "nbformat_minor": 0,
  "metadata": {
    "colab": {
      "name": "WhatsApp Chat Analyser",
      "provenance": [],
      "collapsed_sections": [],
      "include_colab_link": true
    },
    "kernelspec": {
      "name": "python3",
      "display_name": "Python 3"
    }
  },
  "cells": [
    {
      "cell_type": "markdown",
      "metadata": {
        "id": "view-in-github",
        "colab_type": "text"
      },
      "source": [
        "<a href=\"https://colab.research.google.com/github/aman7895/CNN_AuthorshipID/blob/master/WhatsApp_Chat_Analyser.ipynb\" target=\"_parent\"><img src=\"https://colab.research.google.com/assets/colab-badge.svg\" alt=\"Open In Colab\"/></a>"
      ]
    },
    {
      "cell_type": "markdown",
      "metadata": {
        "id": "BIC2CMufTBuZ",
        "colab_type": "text"
      },
      "source": [
        "WhatsApp Chat Analyser"
      ]
    },
    {
      "cell_type": "code",
      "metadata": {
        "id": "yhPgI4BLTghR",
        "colab_type": "code",
        "colab": {
          "base_uri": "https://localhost:8080/",
          "height": 419
        },
        "outputId": "d86f1e80-405b-42aa-ecb4-fd7a767c0e3e"
      },
      "source": [
        "# Reading chat in a list\n",
        "\n",
        "import re\n",
        "import pandas as pd\n",
        "\n",
        "# Regex has .* and then ? to make it non-greedy\n",
        "# Without a ? it will select the largest match possible\n",
        "# Else the shortest one possible\n",
        "\n",
        "with open(\"WhatsApp Chat with My Love.txt\") as reader:\n",
        "  data = re.findall(r'([0-9\\/].*), ([0-9:].*?) - ([a-zA-Z].*?): (.*)', reader.read())\n",
        "\n",
        "# Converting data (list object) into a dataframe\n",
        "chat = pd.DataFrame(data, columns = ['Date', 'Time', 'Sender', 'Message'])\n",
        "\n",
        "chat"
      ],
      "execution_count": 66,
      "outputs": [
        {
          "output_type": "execute_result",
          "data": {
            "text/html": [
              "<div>\n",
              "<style scoped>\n",
              "    .dataframe tbody tr th:only-of-type {\n",
              "        vertical-align: middle;\n",
              "    }\n",
              "\n",
              "    .dataframe tbody tr th {\n",
              "        vertical-align: top;\n",
              "    }\n",
              "\n",
              "    .dataframe thead th {\n",
              "        text-align: right;\n",
              "    }\n",
              "</style>\n",
              "<table border=\"1\" class=\"dataframe\">\n",
              "  <thead>\n",
              "    <tr style=\"text-align: right;\">\n",
              "      <th></th>\n",
              "      <th>Date</th>\n",
              "      <th>Time</th>\n",
              "      <th>Sender</th>\n",
              "      <th>Message</th>\n",
              "    </tr>\n",
              "  </thead>\n",
              "  <tbody>\n",
              "    <tr>\n",
              "      <th>0</th>\n",
              "      <td>6/22/18</td>\n",
              "      <td>13:15</td>\n",
              "      <td>Aman Middha</td>\n",
              "      <td>Hey Varada</td>\n",
              "    </tr>\n",
              "    <tr>\n",
              "      <th>1</th>\n",
              "      <td>6/22/18</td>\n",
              "      <td>13:16</td>\n",
              "      <td>Aman Middha</td>\n",
              "      <td>This is Aman, Subodh's friend!</td>\n",
              "    </tr>\n",
              "    <tr>\n",
              "      <th>2</th>\n",
              "      <td>6/22/18</td>\n",
              "      <td>13:16</td>\n",
              "      <td>Aman Middha</td>\n",
              "      <td>How're you doing?</td>\n",
              "    </tr>\n",
              "    <tr>\n",
              "      <th>3</th>\n",
              "      <td>6/22/18</td>\n",
              "      <td>13:16</td>\n",
              "      <td>My Love</td>\n",
              "      <td>Hey!</td>\n",
              "    </tr>\n",
              "    <tr>\n",
              "      <th>4</th>\n",
              "      <td>6/22/18</td>\n",
              "      <td>13:16</td>\n",
              "      <td>My Love</td>\n",
              "      <td>I'm good! How are you?</td>\n",
              "    </tr>\n",
              "    <tr>\n",
              "      <th>...</th>\n",
              "      <td>...</td>\n",
              "      <td>...</td>\n",
              "      <td>...</td>\n",
              "      <td>...</td>\n",
              "    </tr>\n",
              "    <tr>\n",
              "      <th>306611</th>\n",
              "      <td>11/28/19</td>\n",
              "      <td>14:39</td>\n",
              "      <td>Aman Middha</td>\n",
              "      <td>Bye</td>\n",
              "    </tr>\n",
              "    <tr>\n",
              "      <th>306612</th>\n",
              "      <td>11/28/19</td>\n",
              "      <td>14:39</td>\n",
              "      <td>Aman Middha</td>\n",
              "      <td>I love you</td>\n",
              "    </tr>\n",
              "    <tr>\n",
              "      <th>306613</th>\n",
              "      <td>11/28/19</td>\n",
              "      <td>14:39</td>\n",
              "      <td>Aman Middha</td>\n",
              "      <td>Sorry about this</td>\n",
              "    </tr>\n",
              "    <tr>\n",
              "      <th>306614</th>\n",
              "      <td>11/28/19</td>\n",
              "      <td>17:59</td>\n",
              "      <td>Aman Middha</td>\n",
              "      <td>I wasn't turning hotels into anything crazy. I...</td>\n",
              "    </tr>\n",
              "    <tr>\n",
              "      <th>306615</th>\n",
              "      <td>11/28/19</td>\n",
              "      <td>20:42</td>\n",
              "      <td>Aman Middha</td>\n",
              "      <td>Here’s a show for you… 2nd Date Update UPDATE ...</td>\n",
              "    </tr>\n",
              "  </tbody>\n",
              "</table>\n",
              "<p>306616 rows × 4 columns</p>\n",
              "</div>"
            ],
            "text/plain": [
              "            Date  ...                                            Message\n",
              "0        6/22/18  ...                                         Hey Varada\n",
              "1        6/22/18  ...                     This is Aman, Subodh's friend!\n",
              "2        6/22/18  ...                                  How're you doing?\n",
              "3        6/22/18  ...                                               Hey!\n",
              "4        6/22/18  ...                             I'm good! How are you?\n",
              "...          ...  ...                                                ...\n",
              "306611  11/28/19  ...                                                Bye\n",
              "306612  11/28/19  ...                                         I love you\n",
              "306613  11/28/19  ...                                   Sorry about this\n",
              "306614  11/28/19  ...  I wasn't turning hotels into anything crazy. I...\n",
              "306615  11/28/19  ...  Here’s a show for you… 2nd Date Update UPDATE ...\n",
              "\n",
              "[306616 rows x 4 columns]"
            ]
          },
          "metadata": {
            "tags": []
          },
          "execution_count": 66
        }
      ]
    },
    {
      "cell_type": "code",
      "metadata": {
        "id": "HxhD7dVXVGKa",
        "colab_type": "code",
        "colab": {
          "base_uri": "https://localhost:8080/",
          "height": 51
        },
        "outputId": "9eaf5f98-89a7-4b23-8800-13fb4d2537ac"
      },
      "source": [
        "# Counting messages per person\n",
        "\n",
        "# Counting messages per person considering \n",
        "# data to be a list object\n",
        "def count_oldWay(data):\n",
        "  a_count = 0\n",
        "\n",
        "  # The third column of a row in the list has the name\n",
        "  for i in range(len(data)):\n",
        "    if data[i][2] == 'Aman Middha':\n",
        "      a_count = a_count + 1\n",
        "\n",
        "  b_count = len(data) - a_count\n",
        "\n",
        "  print('Total messages by Person A: ' + str(a_count))\n",
        "  print('Total messages by Person B: ' + str(b_count))\n",
        "\n",
        "# Counting messages using Pandas\n",
        "\n",
        "def count_messages_per_person(data):\n",
        "  \n",
        "  a_count = data[data['Sender'] == 'Aman Middha']['Sender'].count()\n",
        "  v_count = data['Sender'].count() - a_count\n",
        "\n",
        "  print('Total messages by Aman: ' + str(a_count))\n",
        "  print('Total messages by Varada: ' + str(v_count))\n",
        "\n",
        "\n",
        "\n",
        "\n",
        "# count_oldWay(data)\n",
        "count_messages_per_person(chat)"
      ],
      "execution_count": 59,
      "outputs": [
        {
          "output_type": "stream",
          "text": [
            "Total messages by Aman: 167193\n",
            "Total messages by Varada: 139423\n"
          ],
          "name": "stdout"
        }
      ]
    },
    {
      "cell_type": "code",
      "metadata": {
        "id": "_v28Yco9s5dz",
        "colab_type": "code",
        "colab": {
          "base_uri": "https://localhost:8080/",
          "height": 214
        },
        "outputId": "916c066a-7df7-4198-c840-bbc7247b09c5"
      },
      "source": [
        "# New column with words per message\n",
        "chat['Count of Words'] = chat['Message'].str.count(' ')\n",
        "\n",
        "# Max number of words in a message\n",
        "max_words_message = chat['Count of Words'].max()\n",
        "\n",
        "# Total words in the conversation\n",
        "chat[['Count of Words']].count()\n",
        "\n"
      ],
      "execution_count": 72,
      "outputs": [
        {
          "output_type": "error",
          "ename": "TypeError",
          "evalue": "ignored",
          "traceback": [
            "\u001b[0;31m---------------------------------------------------------------------------\u001b[0m",
            "\u001b[0;31mTypeError\u001b[0m                                 Traceback (most recent call last)",
            "\u001b[0;32m<ipython-input-72-11fbe1fe42f2>\u001b[0m in \u001b[0;36m<module>\u001b[0;34m()\u001b[0m\n\u001b[1;32m      5\u001b[0m \u001b[0;34m\u001b[0m\u001b[0m\n\u001b[1;32m      6\u001b[0m \u001b[0;31m# Total words in the conversation\u001b[0m\u001b[0;34m\u001b[0m\u001b[0;34m\u001b[0m\u001b[0;34m\u001b[0m\u001b[0m\n\u001b[0;32m----> 7\u001b[0;31m \u001b[0mchat\u001b[0m\u001b[0;34m[\u001b[0m\u001b[0;34m[\u001b[0m\u001b[0;34m'Count of Words'\u001b[0m\u001b[0;34m]\u001b[0m\u001b[0;34m.\u001b[0m\u001b[0mcount\u001b[0m\u001b[0;34m(\u001b[0m\u001b[0;34m)\u001b[0m\u001b[0;34m]\u001b[0m\u001b[0;34m.\u001b[0m\u001b[0mcount\u001b[0m\u001b[0;34m(\u001b[0m\u001b[0;34m)\u001b[0m\u001b[0;34m\u001b[0m\u001b[0;34m\u001b[0m\u001b[0m\n\u001b[0m\u001b[1;32m      8\u001b[0m \u001b[0;34m\u001b[0m\u001b[0m\n",
            "\u001b[0;31mTypeError\u001b[0m: count() takes exactly one argument (0 given)"
          ]
        }
      ]
    },
    {
      "cell_type": "code",
      "metadata": {
        "id": "GIKgIvMDwFVK",
        "colab_type": "code",
        "colab": {}
      },
      "source": [
        ""
      ],
      "execution_count": 0,
      "outputs": []
    }
  ]
}