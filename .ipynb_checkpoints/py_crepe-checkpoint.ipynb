{
 "cells": [
  {
   "cell_type": "code",
   "execution_count": 4,
   "metadata": {
    "collapsed": false
   },
   "outputs": [],
   "source": [
    "from keras.models import Model\n",
    "from keras.optimizers import SGD\n",
    "from keras.layers import Input, Dense, Dropout, Flatten\n",
    "from keras.layers.convolutional import Convolution1D, MaxPooling1D\n"
   ]
  },
  {
   "cell_type": "code",
   "execution_count": 3,
   "metadata": {
    "collapsed": false
   },
   "outputs": [],
   "source": [
    "def model(filter_kernels, dense_outputs, maxlen, vocab_size, nb_filter,\n",
    "          cat_output):\n",
    "    #Define what the input shape looks like\n",
    "    inputs = Input(shape=(maxlen, vocab_size), name='input', dtype='float32')\n",
    "\n",
    "    #All the convolutional layers...\n",
    "    conv = Convolution1D(nb_filter=nb_filter, filter_length=filter_kernels[0],\n",
    "                         border_mode='valid', activation='relu',\n",
    "                         input_shape=(maxlen, vocab_size))(inputs)\n",
    "    conv = MaxPooling1D(pool_length=3)(conv)\n",
    "\n",
    "    conv1 = Convolution1D(nb_filter=nb_filter, filter_length=filter_kernels[1],\n",
    "                          border_mode='valid', activation='relu')(conv)\n",
    "    conv1 = MaxPooling1D(pool_length=3)(conv1)\n",
    "\n",
    "    conv2 = Convolution1D(nb_filter=nb_filter, filter_length=filter_kernels[2],\n",
    "                          border_mode='valid', activation='relu')(conv1)\n",
    "\n",
    "    conv3 = Convolution1D(nb_filter=nb_filter, filter_length=filter_kernels[3],\n",
    "                          border_mode='valid', activation='relu')(conv2)\n",
    "\n",
    "    conv4 = Convolution1D(nb_filter=nb_filter, filter_length=filter_kernels[4],\n",
    "                          border_mode='valid', activation='relu')(conv3)\n",
    "\n",
    "    conv5 = Convolution1D(nb_filter=nb_filter, filter_length=filter_kernels[5],\n",
    "                          border_mode='valid', activation='relu')(conv4)\n",
    "    conv5 = MaxPooling1D(pool_length=3)(conv5)\n",
    "    conv5 = Flatten()(conv5)\n",
    "\n",
    "    #Two dense layers with dropout of .5\n",
    "    z = Dropout(0.5)(Dense(dense_outputs, activation='relu')(conv5))\n",
    "    z = Dropout(0.5)(Dense(dense_outputs, activation='relu')(z))\n",
    "\n",
    "    #Output dense layer with softmax activation\n",
    "    pred = Dense(cat_output, activation='softmax', name='output')(z)\n",
    "\n",
    "    model = Model(input=inputs, output=pred)\n",
    "\n",
    "    sgd = SGD(lr=0.01, momentum=0.9)\n",
    "    model.compile(loss='categorical_crossentropy', optimizer=sgd,\n",
    "                  metrics=['accuracy'])\n",
    "\n",
    "    return model"
   ]
  },
  {
   "cell_type": "code",
   "execution_count": null,
   "metadata": {
    "collapsed": true
   },
   "outputs": [],
   "source": []
  }
 ],
 "metadata": {
  "kernelspec": {
   "display_name": "Python [conda root]",
   "language": "python",
   "name": "conda-root-py"
  },
  "language_info": {
   "codemirror_mode": {
    "name": "ipython",
    "version": 2
   },
   "file_extension": ".py",
   "mimetype": "text/x-python",
   "name": "python",
   "nbconvert_exporter": "python",
   "pygments_lexer": "ipython2",
   "version": "2.7.13"
  }
 },
 "nbformat": 4,
 "nbformat_minor": 2
}
